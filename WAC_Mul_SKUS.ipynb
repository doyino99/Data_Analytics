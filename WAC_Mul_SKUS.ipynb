{
 "cells": [
  {
   "cell_type": "code",
   "execution_count": 1,
   "id": "27ed937f",
   "metadata": {},
   "outputs": [
    {
     "name": "stdout",
     "output_type": "stream",
     "text": [
      "      ID CLASS  UNIT COST  RECEIVED  ISSUED\n",
      "0      1    FD   1,900.00    500.00    0.00\n",
      "1      2    RM   4,250.00    500.00    0.00\n",
      "2      3    PM      39.00    400.00    0.00\n",
      "3      4    PM      23.00      0.00   20.00\n",
      "4      5    PM      37.00      0.00   20.00\n",
      "..   ...   ...        ...       ...     ...\n",
      "147  148    FD   1,750.00      0.00   10.00\n",
      "148  149    FD     914.40      0.00   10.00\n",
      "149  150    DR     116.27    200.00    0.00\n",
      "150  151    FD   1,300.00      0.00   10.00\n",
      "151  152    FD   1,300.00      0.00   10.00\n",
      "\n",
      "[152 rows x 5 columns]\n"
     ]
    }
   ],
   "source": [
    "!pip install pandas --upgrade --quiet\n",
    "import pandas as pd\n",
    "data= pd.read_csv(\"C:/Users/adedo/Desktop/Data_analytics/data/inventory.csv\")\n",
    "pd.options.display.float_format = \"{:,.2f}\".format\n",
    "df = data.fillna(0)\n",
    "print(df)"
   ]
  },
  {
   "cell_type": "code",
   "execution_count": 2,
   "id": "bbf24295",
   "metadata": {},
   "outputs": [
    {
     "name": "stdout",
     "output_type": "stream",
     "text": [
      "      ID CLASS  UNIT COST  RECEIVED  ISSUED       amount  TotalQty\n",
      "0      1    FD   1,900.00    500.00    0.00   950,000.00    500.00\n",
      "1      2    RM   4,250.00    500.00    0.00 2,125,000.00    500.00\n",
      "2      3    PM      39.00    400.00    0.00    15,600.00    400.00\n",
      "3      4    PM      23.00      0.00   20.00      -460.00    380.00\n",
      "4      5    PM      37.00      0.00   20.00      -740.00    360.00\n",
      "..   ...   ...        ...       ...     ...          ...       ...\n",
      "147  148    FD   1,750.00      0.00   10.00   -17,500.00    367.00\n",
      "148  149    FD     914.40      0.00   10.00    -9,144.00    357.00\n",
      "149  150    DR     116.27    200.00    0.00    23,254.00    200.00\n",
      "150  151    FD   1,300.00      0.00   10.00   -13,000.00    347.00\n",
      "151  152    FD   1,300.00      0.00   10.00   -13,000.00    337.00\n",
      "\n",
      "[152 rows x 7 columns]\n"
     ]
    }
   ],
   "source": [
    "#Create an amount column and total quantity column\n",
    "df['amount'] = (df['RECEIVED'] - df['ISSUED']) * df[\"UNIT COST\"]\n",
    "df['TotalQty'] = df.groupby(\"CLASS\").cumsum().eval(\"RECEIVED - ISSUED\")\n",
    "print(df)"
   ]
  },
  {
   "cell_type": "code",
   "execution_count": 3,
   "id": "a81b0744",
   "metadata": {},
   "outputs": [
    {
     "name": "stdout",
     "output_type": "stream",
     "text": [
      "      ID CLASS  UNIT COST  RECEIVED  ISSUED       amount  TotalQty      WAC\n",
      "0      1    FD   1,900.00    500.00    0.00   950,000.00    500.00 1,900.00\n",
      "1      2    RM   4,250.00    500.00    0.00 2,125,000.00    500.00 4,250.00\n",
      "2      3    PM      39.00    400.00    0.00    15,600.00    400.00    39.00\n",
      "3      4    PM      23.00      0.00   20.00      -460.00    380.00    39.00\n",
      "4      5    PM      37.00      0.00   20.00      -740.00    360.00    39.00\n",
      "..   ...   ...        ...       ...     ...          ...       ...      ...\n",
      "147  148    FD   1,750.00      0.00   10.00   -17,500.00    367.00 1,901.30\n",
      "148  149    FD     914.40      0.00   10.00    -9,144.00    357.00 1,901.30\n",
      "149  150    DR     116.27    200.00    0.00    23,254.00    200.00   116.30\n",
      "150  151    FD   1,300.00      0.00   10.00   -13,000.00    347.00 1,901.30\n",
      "151  152    FD   1,300.00      0.00   10.00   -13,000.00    337.00 1,901.30\n",
      "\n",
      "[152 rows x 8 columns]\n"
     ]
    }
   ],
   "source": [
    "def get_WAC(df):\n",
    "    # Set the first average price (We need an inception)\n",
    "    df.loc[df.index[0], \"WAC\"] = df.loc[df.index[0], \"UNIT COST\"]\n",
    "\n",
    "    # loop over the remaining rows.\n",
    "    for i in range(1, len(df)):\n",
    "        # if nothing was received, take the previous value\n",
    "        if df.loc[df.index[i], \"RECEIVED\"] == 0:\n",
    "            df.loc[df.index[i], \"WAC\"] = df.loc[df.index[i - 1], \"WAC\"]\n",
    "        # if something was received\n",
    "        elif df.loc[df.index[i], \"RECEIVED\"] > 0:\n",
    "            df.loc[df.index[i], \"WAC\"] = (\n",
    "                df.loc[df.index[i], \"amount\"]\n",
    "                + ((df.loc[df.index[i - 1], \"WAC\"]) * (df.loc[df.index[i - 1], \"TotalQty\"]))\n",
    "            ) / (df.loc[df.index[i], \"TotalQty\"])\n",
    "        elif df.loc[df.index[i], \"RECEIVED\"] < 0:\n",
    "            df.loc[df.index[i], \"WAC\"] = df.loc[df.index[i - 1], \"WAC\"]\n",
    "        else:\n",
    "            df.loc[df.index[i], \"WAC\"] = 0\n",
    "\n",
    "    df[\"WAC\"] = df[\"WAC\"].round(1)\n",
    "\n",
    "    return df\n",
    "\n",
    "\n",
    "df = df.groupby(\"CLASS\", group_keys=False).apply(get_WAC)\n",
    "print(df)"
   ]
  },
  {
   "cell_type": "code",
   "execution_count": 4,
   "id": "7c24ee28",
   "metadata": {},
   "outputs": [
    {
     "name": "stdout",
     "output_type": "stream",
     "text": [
      "      ID CLASS  UNIT COST  RECEIVED  ISSUED      amount  TotalQty      WAC\n",
      "0      1    FD   1,900.00    500.00    0.00  950,000.00    500.00 1,900.00\n",
      "8      9    FD   1,950.00      0.00  220.00 -429,000.00    280.00 1,900.00\n",
      "9     10    FD   1,800.00    250.00    0.00  450,000.00    530.00 1,852.80\n",
      "10    11    FD   2,000.00      0.00  100.00 -200,000.00    430.00 1,852.80\n",
      "11    12    FD   2,000.00     77.00    0.00  154,000.00    507.00 1,875.20\n",
      "12    13    FD   1,850.00      0.00   20.00  -37,000.00    487.00 1,875.20\n",
      "13    14    FD   2,000.00      0.00   20.00  -40,000.00    467.00 1,875.20\n",
      "14    15    FD   1,950.00    250.00    0.00  487,500.00    717.00 1,901.30\n",
      "75    76    FD     757.70      0.00   20.00  -15,154.00    697.00 1,901.30\n",
      "76    77    FD     757.70      0.00   20.00  -15,154.00    677.00 1,901.30\n",
      "77    78    FD     757.70      0.00   20.00  -15,154.00    657.00 1,901.30\n",
      "98    99    FD   1,054.50      0.00   10.00  -10,545.00    647.00 1,901.30\n",
      "99   100    FD   1,400.00      0.00   10.00  -14,000.00    637.00 1,901.30\n",
      "100  101    FD   1,400.00      0.00   10.00  -14,000.00    627.00 1,901.30\n",
      "101  102    FD   1,400.00      0.00   10.00  -14,000.00    617.00 1,901.30\n",
      "104  105    FD   1,640.00      0.00   10.00  -16,400.00    607.00 1,901.30\n",
      "105  106    FD   1,950.00      0.00   10.00  -19,500.00    597.00 1,901.30\n",
      "106  107    FD   1,950.00      0.00   10.00  -19,500.00    587.00 1,901.30\n",
      "107  108    FD   1,950.00      0.00   10.00  -19,500.00    577.00 1,901.30\n",
      "108  109    FD   2,000.00      0.00   10.00  -20,000.00    567.00 1,901.30\n",
      "109  110    FD   2,000.00      0.00   10.00  -20,000.00    557.00 1,901.30\n",
      "110  111    FD   2,000.00      0.00   10.00  -20,000.00    547.00 1,901.30\n",
      "111  112    FD   2,000.00      0.00   10.00  -20,000.00    537.00 1,901.30\n",
      "112  113    FD   2,000.00      0.00   10.00  -20,000.00    527.00 1,901.30\n",
      "113  114    FD   2,000.00      0.00   10.00  -20,000.00    517.00 1,901.30\n",
      "114  115    FD   2,221.15      0.00   10.00  -22,211.50    507.00 1,901.30\n",
      "119  120    FD   2,426.47      0.00   10.00  -24,264.70    497.00 1,901.30\n",
      "126  127    FD     240.15      0.00   10.00   -2,401.50    487.00 1,901.30\n",
      "128  129    FD   1,264.66      0.00   10.00  -12,646.60    477.00 1,901.30\n",
      "133  134    FD     228.84      0.00   10.00   -2,288.40    467.00 1,901.30\n",
      "137  138    FD     630.00      0.00   10.00   -6,300.00    457.00 1,901.30\n",
      "138  139    FD   1,300.00      0.00   10.00  -13,000.00    447.00 1,901.30\n",
      "139  140    FD   1,300.00      0.00   10.00  -13,000.00    437.00 1,901.30\n",
      "140  141    FD   1,760.00      0.00   10.00  -17,600.00    427.00 1,901.30\n",
      "141  142    FD   1,760.00      0.00   10.00  -17,600.00    417.00 1,901.30\n",
      "142  143    FD   1,980.00      0.00   10.00  -19,800.00    407.00 1,901.30\n",
      "143  144    FD   1,860.59      0.00   10.00  -18,605.90    397.00 1,901.30\n",
      "144  145    FD      78.58      0.00   10.00     -785.80    387.00 1,901.30\n",
      "146  147    FD   1,750.00      0.00   10.00  -17,500.00    377.00 1,901.30\n",
      "147  148    FD   1,750.00      0.00   10.00  -17,500.00    367.00 1,901.30\n",
      "148  149    FD     914.40      0.00   10.00   -9,144.00    357.00 1,901.30\n",
      "150  151    FD   1,300.00      0.00   10.00  -13,000.00    347.00 1,901.30\n",
      "151  152    FD   1,300.00      0.00   10.00  -13,000.00    337.00 1,901.30\n"
     ]
    }
   ],
   "source": [
    "print(df.loc[df[\"CLASS\"] == \"FD\"])"
   ]
  },
  {
   "cell_type": "code",
   "execution_count": null,
   "id": "333d64b5",
   "metadata": {},
   "outputs": [],
   "source": []
  }
 ],
 "metadata": {
  "kernelspec": {
   "display_name": "Python 3 (ipykernel)",
   "language": "python",
   "name": "python3"
  },
  "language_info": {
   "codemirror_mode": {
    "name": "ipython",
    "version": 3
   },
   "file_extension": ".py",
   "mimetype": "text/x-python",
   "name": "python",
   "nbconvert_exporter": "python",
   "pygments_lexer": "ipython3",
   "version": "3.10.9"
  }
 },
 "nbformat": 4,
 "nbformat_minor": 5
}

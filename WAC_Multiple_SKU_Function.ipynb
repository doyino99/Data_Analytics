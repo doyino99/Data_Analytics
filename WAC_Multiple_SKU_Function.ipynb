{
 "cells": [
  {
   "cell_type": "code",
   "execution_count": 1,
   "id": "58353aa2",
   "metadata": {},
   "outputs": [
    {
     "name": "stdout",
     "output_type": "stream",
     "text": [
      "      ID CLASS  UNIT COST  RECEIVED  ISSUED\n",
      "0      1    FD   1,900.00    500.00    0.00\n",
      "1      2    RM   4,250.00    500.00    0.00\n",
      "2      3    PM      39.00    400.00    0.00\n",
      "3      4    PM      23.00      0.00   20.00\n",
      "4      5    PM      37.00      0.00   20.00\n",
      "..   ...   ...        ...       ...     ...\n",
      "147  148    FD   1,750.00      0.00   10.00\n",
      "148  149    FD     914.40      0.00   10.00\n",
      "149  150    DR     116.27    200.00    0.00\n",
      "150  151    FD   1,300.00      0.00   10.00\n",
      "151  152    FD   1,300.00      0.00   10.00\n",
      "\n",
      "[152 rows x 5 columns]\n"
     ]
    }
   ],
   "source": [
    "!pip install pandas --upgrade --quiet\n",
    "import pandas as pd\n",
    "data= pd.read_csv(\"C:/Users/adedo/Desktop/Data_analytics/data/inventory.csv\")\n",
    "pd.options.display.float_format = \"{:,.2f}\".format\n",
    "df = data.fillna(0)\n",
    "print(df)"
   ]
  },
  {
   "cell_type": "code",
   "execution_count": 2,
   "id": "2581db4c",
   "metadata": {},
   "outputs": [
    {
     "name": "stdout",
     "output_type": "stream",
     "text": [
      "      ID CLASS  UNIT COST  RECEIVED  ISSUED       amount  TotalQty      WAC\n",
      "0      1    FD   1,900.00    500.00    0.00   950,000.00    500.00 1,900.00\n",
      "1      2    RM   4,250.00    500.00    0.00 2,125,000.00    500.00 4,250.00\n",
      "2      3    PM      39.00    400.00    0.00    15,600.00    400.00    39.00\n",
      "3      4    PM      23.00      0.00   20.00      -460.00    380.00    39.00\n",
      "4      5    PM      37.00      0.00   20.00      -740.00    360.00    39.00\n",
      "..   ...   ...        ...       ...     ...          ...       ...      ...\n",
      "147  148    FD   1,750.00      0.00   10.00   -17,500.00    367.00 1,901.30\n",
      "148  149    FD     914.40      0.00   10.00    -9,144.00    357.00 1,901.30\n",
      "149  150    DR     116.27    200.00    0.00    23,254.00    200.00   116.30\n",
      "150  151    FD   1,300.00      0.00   10.00   -13,000.00    347.00 1,901.30\n",
      "151  152    FD   1,300.00      0.00   10.00   -13,000.00    337.00 1,901.30\n",
      "\n",
      "[152 rows x 8 columns]\n"
     ]
    }
   ],
   "source": [
    "def getAmount(rec,iss,price):\n",
    "    amount = (rec - iss) * price\n",
    "    return amount\n",
    "\n",
    "def get_WAC(df):\n",
    "    df['amount'] = getAmount(df[\"RECEIVED\"], df['ISSUED'], df[\"UNIT COST\"])\n",
    "    df['TotalQty'] = df.groupby(\"CLASS\").cumsum().eval(\"RECEIVED - ISSUED\")\n",
    "    \n",
    "    # Set the first average price (We need an inception)\n",
    "    df.loc[df.index[0], \"WAC\"] = df.loc[df.index[0], \"UNIT COST\"]\n",
    "\n",
    "    # loop over the remaining rows.\n",
    "    for i in range(1, len(df)):\n",
    "        # if nothing was received, take the previous value\n",
    "        if df.loc[df.index[i], \"RECEIVED\"] == 0:\n",
    "            df.loc[df.index[i], \"WAC\"] = df.loc[df.index[i - 1], \"WAC\"]\n",
    "        # if something was received\n",
    "        elif df.loc[df.index[i], \"RECEIVED\"] > 0:\n",
    "            df.loc[df.index[i], \"WAC\"] = (\n",
    "                df.loc[df.index[i], \"amount\"]\n",
    "                + ((df.loc[df.index[i - 1], \"WAC\"]) * (df.loc[df.index[i - 1], \"TotalQty\"]))\n",
    "            ) / (df.loc[df.index[i], \"TotalQty\"])\n",
    "        elif df.loc[df.index[i], \"RECEIVED\"] < 0:\n",
    "            df.loc[df.index[i], \"WAC\"] = df.loc[df.index[i - 1], \"WAC\"]\n",
    "        else:\n",
    "            df.loc[df.index[i], \"WAC\"] = 0\n",
    "\n",
    "    df[\"WAC\"] = df[\"WAC\"].round(1)\n",
    "\n",
    "    return df\n",
    "\n",
    "\n",
    "df = df.groupby(\"CLASS\", group_keys=False).apply(get_WAC)\n",
    "print(df)"
   ]
  },
  {
   "cell_type": "code",
   "execution_count": null,
   "id": "e12b7930",
   "metadata": {},
   "outputs": [],
   "source": []
  }
 ],
 "metadata": {
  "kernelspec": {
   "display_name": "Python 3 (ipykernel)",
   "language": "python",
   "name": "python3"
  },
  "language_info": {
   "codemirror_mode": {
    "name": "ipython",
    "version": 3
   },
   "file_extension": ".py",
   "mimetype": "text/x-python",
   "name": "python",
   "nbconvert_exporter": "python",
   "pygments_lexer": "ipython3",
   "version": "3.10.9"
  }
 },
 "nbformat": 4,
 "nbformat_minor": 5
}

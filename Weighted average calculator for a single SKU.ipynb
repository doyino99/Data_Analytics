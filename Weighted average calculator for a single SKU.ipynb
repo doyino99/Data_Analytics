{
 "cells": [
  {
   "cell_type": "markdown",
   "id": "ad108ea0",
   "metadata": {},
   "source": [
    "## WAC Calculator for single SKU"
   ]
  },
  {
   "cell_type": "code",
   "execution_count": 2,
   "id": "bce8892f",
   "metadata": {},
   "outputs": [
    {
     "data": {
      "text/html": [
       "<div>\n",
       "<style scoped>\n",
       "    .dataframe tbody tr th:only-of-type {\n",
       "        vertical-align: middle;\n",
       "    }\n",
       "\n",
       "    .dataframe tbody tr th {\n",
       "        vertical-align: top;\n",
       "    }\n",
       "\n",
       "    .dataframe thead th {\n",
       "        text-align: right;\n",
       "    }\n",
       "</style>\n",
       "<table border=\"1\" class=\"dataframe\">\n",
       "  <thead>\n",
       "    <tr style=\"text-align: right;\">\n",
       "      <th></th>\n",
       "      <th>Received</th>\n",
       "      <th>Issued</th>\n",
       "      <th>Unit price</th>\n",
       "    </tr>\n",
       "  </thead>\n",
       "  <tbody>\n",
       "    <tr>\n",
       "      <th>0</th>\n",
       "      <td>657</td>\n",
       "      <td>0.00</td>\n",
       "      <td>17.61</td>\n",
       "    </tr>\n",
       "    <tr>\n",
       "      <th>1</th>\n",
       "      <td>490</td>\n",
       "      <td>0.00</td>\n",
       "      <td>12.49</td>\n",
       "    </tr>\n",
       "    <tr>\n",
       "      <th>2</th>\n",
       "      <td>0</td>\n",
       "      <td>11.10</td>\n",
       "      <td>9.69</td>\n",
       "    </tr>\n",
       "    <tr>\n",
       "      <th>3</th>\n",
       "      <td>0</td>\n",
       "      <td>7.20</td>\n",
       "      <td>7.92</td>\n",
       "    </tr>\n",
       "    <tr>\n",
       "      <th>4</th>\n",
       "      <td>270</td>\n",
       "      <td>0.00</td>\n",
       "      <td>6.69</td>\n",
       "    </tr>\n",
       "    <tr>\n",
       "      <th>5</th>\n",
       "      <td>0</td>\n",
       "      <td>5.80</td>\n",
       "      <td>5.80</td>\n",
       "    </tr>\n",
       "    <tr>\n",
       "      <th>6</th>\n",
       "      <td>206</td>\n",
       "      <td>0.00</td>\n",
       "      <td>5.12</td>\n",
       "    </tr>\n",
       "    <tr>\n",
       "      <th>7</th>\n",
       "      <td>160</td>\n",
       "      <td>4.20</td>\n",
       "      <td>4.58</td>\n",
       "    </tr>\n",
       "  </tbody>\n",
       "</table>\n",
       "</div>"
      ],
      "text/plain": [
       "   Received  Issued  Unit price\n",
       "0       657    0.00       17.61\n",
       "1       490    0.00       12.49\n",
       "2         0   11.10        9.69\n",
       "3         0    7.20        7.92\n",
       "4       270    0.00        6.69\n",
       "5         0    5.80        5.80\n",
       "6       206    0.00        5.12\n",
       "7       160    4.20        4.58"
      ]
     },
     "execution_count": 2,
     "metadata": {},
     "output_type": "execute_result"
    }
   ],
   "source": [
    "!pip install pandas --upgrade --quiet\n",
    "import pandas as pd\n",
    "df = pd.read_csv(\"C:/Users/adedo/Desktop/Data_analytics/data/WAC1.txt\")\n",
    "pd.options.display.float_format = \"{:,.2f}\".format\n",
    "df"
   ]
  },
  {
   "cell_type": "code",
   "execution_count": 3,
   "id": "d8729e2f",
   "metadata": {},
   "outputs": [
    {
     "name": "stdout",
     "output_type": "stream",
     "text": [
      "   Received  Issued  Unit price    amount  TotalQty\n",
      "0       657    0.00       17.61 11,569.20    657.00\n",
      "1       490    0.00       12.49  6,122.00  1,147.00\n",
      "2         0   11.10        9.69   -107.57  1,135.90\n",
      "3         0    7.20        7.92    -57.01  1,128.70\n",
      "4       270    0.00        6.69  1,807.56  1,398.70\n",
      "5         0    5.80        5.80    -33.64  1,392.90\n",
      "6       206    0.00        5.12  1,053.74  1,598.90\n",
      "7       160    4.20        4.58    712.90  1,754.70\n"
     ]
    }
   ],
   "source": [
    "#Create an amount column and total quantity column\n",
    "df['amount'] = (df['Received'] - df['Issued']) * df[\"Unit price\"]\n",
    "df['TotalQty'] = (df[\"Received\"] - df[\"Issued\"]).cumsum()\n",
    "print(df)"
   ]
  },
  {
   "cell_type": "markdown",
   "id": "c17f25dc",
   "metadata": {},
   "source": [
    "## Calculating the weighted average cost"
   ]
  },
  {
   "cell_type": "code",
   "execution_count": 4,
   "id": "59a92841",
   "metadata": {},
   "outputs": [
    {
     "name": "stdout",
     "output_type": "stream",
     "text": [
      "   Received  Issued  Unit price    amount  TotalQty   WAC\n",
      "0       657    0.00       17.61 11,569.20    657.00 17.61\n",
      "1       490    0.00       12.49  6,122.00  1,147.00 15.42\n",
      "2         0   11.10        9.69   -107.57  1,135.90 15.42\n",
      "3         0    7.20        7.92    -57.01  1,128.70 15.42\n",
      "4       270    0.00        6.69  1,807.56  1,398.70 13.74\n",
      "5         0    5.80        5.80    -33.64  1,392.90 13.74\n",
      "6       206    0.00        5.12  1,053.74  1,598.90 12.63\n",
      "7       160    4.20        4.58    712.90  1,754.70 11.91\n"
     ]
    }
   ],
   "source": [
    "# Set the first average price (We need an inception)\n",
    "df.loc[0,'WAC'] = df.loc[0,'Unit price']\n",
    "\n",
    "# loop over the remaining rows.\n",
    "for i in range(1, len(df)):\n",
    "    #if nothing was received, take the previous value\n",
    "    if df.loc[i, 'Received'] == 0:\n",
    "        df.loc[i, 'WAC'] = df.loc[i-1, 'WAC']\n",
    "    #if something was received\n",
    "    elif df.loc[i, 'Received'] > 0:\n",
    "        df.loc[i, 'WAC'] = (df.loc[i,'amount'] + ((df.loc[i-1, 'WAC']) * (df.loc[i-1, 'TotalQty']))) / (df.loc[i, 'TotalQty'])\n",
    "    else:\n",
    "        df.loc[i, 'WAC'] = 0\n",
    "print(df)"
   ]
  }
 ],
 "metadata": {
  "kernelspec": {
   "display_name": "Python 3 (ipykernel)",
   "language": "python",
   "name": "python3"
  },
  "language_info": {
   "codemirror_mode": {
    "name": "ipython",
    "version": 3
   },
   "file_extension": ".py",
   "mimetype": "text/x-python",
   "name": "python",
   "nbconvert_exporter": "python",
   "pygments_lexer": "ipython3",
   "version": "3.10.9"
  }
 },
 "nbformat": 4,
 "nbformat_minor": 5
}
